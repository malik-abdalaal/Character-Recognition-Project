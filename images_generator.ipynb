{
 "cells": [
  {
   "cell_type": "code",
   "execution_count": 13,
   "metadata": {},
   "outputs": [],
   "source": [
    "from PIL import Image, ImageDraw, ImageFont"
   ]
  },
  {
   "cell_type": "code",
   "execution_count": 23,
   "metadata": {},
   "outputs": [],
   "source": [
    "import os\n",
    "\n",
    "def generate_letter_image(letter, font):\n",
    "    # Image path\n",
    "    image_path = f'images\\\\{font}\\\\{letter}.jpg'\n",
    "    \n",
    "    if not os.path.exists(f'images\\\\{font}'):\n",
    "        os.makedirs(f'images\\\\{font}')\n",
    "    \n",
    "    # Create a blank image with white background\n",
    "    image = Image.new(\"RGB\", (32, 32), \"black\")\n",
    "\n",
    "    # Calculate the center coordinates of the image\n",
    "    center_x = image.width // 2\n",
    "    center_y = image.height // 2\n",
    "\n",
    "    # Define the font and size\n",
    "    font = ImageFont.truetype(f\"{font}.ttf\", 28, encoding='unic')\n",
    "\n",
    "    # Get the size of the letter\n",
    "    letter_width, letter_height = font.getsize(letter)\n",
    "\n",
    "    # Calculate the top-left coordinates of the letter\n",
    "    letter_x = center_x - letter_width // 2\n",
    "    letter_y = (center_y - letter_height // 2) - 2\n",
    "\n",
    "    # Create a draw object\n",
    "    draw = ImageDraw.Draw(image)\n",
    "\n",
    "    # Draw the letter on the image\n",
    "    draw.text((letter_x, letter_y), letter, font=font, fill=\"white\")\n",
    "\n",
    "    # Save the image as JPG\n",
    "    image.save(image_path, \"JPEG\")"
   ]
  },
  {
   "cell_type": "code",
   "execution_count": 15,
   "metadata": {},
   "outputs": [
    {
     "name": "stderr",
     "output_type": "stream",
     "text": [
      "C:\\Users\\Hussein\\AppData\\Local\\Temp\\ipykernel_17880\\311888546.py:21: DeprecationWarning: getsize is deprecated and will be removed in Pillow 10 (2023-07-01). Use getbbox or getlength instead.\n",
      "  letter_width, letter_height = font.getsize(letter)\n"
     ]
    }
   ],
   "source": [
    "import string\n",
    "\n",
    "for c in string.ascii_uppercase:\n",
    "    generate_letter_image(f\"{c}\", 'Candaral')"
   ]
  },
  {
   "cell_type": "code",
   "execution_count": 28,
   "metadata": {},
   "outputs": [],
   "source": [
    "def generate_text_image(text, font):\n",
    "    # Image path\n",
    "    image_path = f'images\\\\text\\\\{font[0:font.index(\".\")]}-{text}.jpg'\n",
    "\n",
    "    # Create a blank image with black background\n",
    "    image = Image.new(\"RGB\", (32 * len(text), 32), \"black\")\n",
    "    \n",
    "    # Define the font and size\n",
    "    font = ImageFont.truetype(f\"{font}\", 28, encoding='unic')\n",
    "\n",
    "    for i in range(0, len(text)):\n",
    "        letter = text[i]\n",
    "\n",
    "        # Get the size of the letter\n",
    "        letter_width, letter_height = font.getsize(letter)\n",
    "\n",
    "        # Calculate the center coordinates of the image\n",
    "        center_x = ((32 * (i + 1)) - 16)\n",
    "        center_y = image.height // 2\n",
    "\n",
    "        # Calculate the top-left coordinates of the letter\n",
    "        letter_x = center_x - letter_width // 2\n",
    "        letter_y = (center_y - letter_height // 2) - 2\n",
    "        \n",
    "        # letter_x += (32 * i)\n",
    "\n",
    "        # Create a draw object\n",
    "        draw = ImageDraw.Draw(image)\n",
    "\n",
    "        # Draw the letter on the image\n",
    "        draw.text((letter_x, letter_y), letter, font=font, fill=\"white\")\n",
    "\n",
    "    # Save the image as JPG\n",
    "    image.save(image_path, \"JPEG\")"
   ]
  },
  {
   "cell_type": "code",
   "execution_count": 30,
   "metadata": {},
   "outputs": [
    {
     "name": "stderr",
     "output_type": "stream",
     "text": [
      "C:\\Users\\Hussein\\AppData\\Local\\Temp\\ipykernel_17880\\4036727253.py:15: DeprecationWarning: getsize is deprecated and will be removed in Pillow 10 (2023-07-01). Use getbbox or getlength instead.\n",
      "  letter_width, letter_height = font.getsize(letter)\n"
     ]
    }
   ],
   "source": [
    "# for font in ['arialbd', 'bahnschrift', 'Candarab', 'Candaral', 'ebrimabd', 'SitkaVF']:\n",
    "for font in ['ITCEDSCR.TTF', ]:\n",
    "    generate_text_image('ABCDEFGHIJKLMNOPQRSTUVWXYZ', font)"
   ]
  }
 ],
 "metadata": {
  "kernelspec": {
   "display_name": "Python 3 (ipykernel)",
   "language": "python",
   "name": "python3"
  },
  "language_info": {
   "codemirror_mode": {
    "name": "ipython",
    "version": 3
   },
   "file_extension": ".py",
   "mimetype": "text/x-python",
   "name": "python",
   "nbconvert_exporter": "python",
   "pygments_lexer": "ipython3",
   "version": "3.9.13"
  }
 },
 "nbformat": 4,
 "nbformat_minor": 2
}
